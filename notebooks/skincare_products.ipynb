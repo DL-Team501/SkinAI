{
 "cells": [
  {
   "cell_type": "code",
   "execution_count": 4,
   "id": "f831108a-4ae4-41f9-97aa-da3920b7b35c",
   "metadata": {},
   "source": [
    "!pip install pandas"
   ],
   "outputs": []
  },
  {
   "cell_type": "markdown",
   "id": "85772ea9-fe56-4dfa-95dd-f19f09e862e1",
   "metadata": {},
   "source": [
    "# Imports"
   ]
  },
  {
   "cell_type": "code",
   "execution_count": 14,
   "id": "9bf58246-fbc5-4139-a479-b3eed48dc31f",
   "metadata": {},
   "source": [
    "import re\n",
    "import pandas as pd"
   ],
   "outputs": []
  },
  {
   "cell_type": "markdown",
   "id": "d80400f2-7c74-49be-a6f7-761c97d76643",
   "metadata": {},
   "source": [
    "# Loading Dataset"
   ]
  },
  {
   "cell_type": "code",
   "execution_count": 9,
   "id": "33bd011e-6f51-4afc-94f6-da122f55cd12",
   "metadata": {},
   "source": [
    "df = pd.read_csv('../data/cosmetic.csv')\n",
    "df"
   ],
   "outputs": []
  },
  {
   "cell_type": "code",
   "execution_count": 10,
   "id": "1cd24a94-b14a-4a97-975d-a07107481ad0",
   "metadata": {},
   "source": [
    "df.info()"
   ],
   "outputs": []
  },
  {
   "cell_type": "code",
   "execution_count": 11,
   "id": "75fea36c-6522-4bdf-abaf-dac9994d511b",
   "metadata": {},
   "source": [
    "skin_type_cols = ['Combination', 'Dry', 'Normal', 'Oily', 'Sensitive']\n",
    "df_skin_types = df[skin_type_cols]\n",
    "\n",
    "# Count rows with 0 in all skin type columns\n",
    "all_zero_skin_types = (df_skin_types == 0).all(axis=1).sum()\n",
    "all_zero_skin_types"
   ],
   "outputs": []
  },
  {
   "cell_type": "code",
   "execution_count": 12,
   "id": "9e6fc360-07f0-4952-a225-68df64d81bf2",
   "metadata": {},
   "source": [
    "# Update the dataframe to set 'Normal' to 1 for rows with 0 in all skin types\n",
    "df.loc[(df_skin_types == 0).all(axis=1), 'Normal'] = 1"
   ],
   "outputs": []
  },
  {
   "cell_type": "code",
   "execution_count": 15,
   "id": "a450244a-66be-447b-99e4-65a6f1c3e394",
   "metadata": {},
   "source": [
    "def clean_ingredients(text):\n",
    "  \"\"\"\n",
    "  Cleans the ingredient text.\n",
    "\n",
    "  Args:\n",
    "      text: String containing the ingredient list.\n",
    "\n",
    "  Returns:\n",
    "      A string with cleaned ingredients in lowercase, with extra spaces removed.\n",
    "  \"\"\"\n",
    "  # Lowercase\n",
    "  text = text.lower()\n",
    "\n",
    "  # Remove extra spaces\n",
    "  text = re.sub(r'\\s+', ' ', text).strip()\n",
    "\n",
    "  return text\n",
    "\n",
    "# Apply the cleaning function to the 'ingredients list' column\n",
    "df['clean_ingredients'] = df['ingredients'].apply(clean_ingredients)\n",
    "df"
   ],
   "outputs": []
  },
  {
   "cell_type": "code",
   "execution_count": 17,
   "id": "51166920-d6c5-47d3-96dc-f5a6604df2b0",
   "metadata": {},
   "source": [
    "unique_ingredients = set()\n",
    "\n",
    "for ingredient_list in df['clean_ingredients']:\n",
    "  ingredients = ingredient_list.split(\",\")\n",
    "  unique_ingredients.update(ingredient.strip() for ingredient in ingredients)\n",
    "\n",
    "len(unique_ingredients)"
   ],
   "outputs": []
  },
  {
   "cell_type": "code",
   "execution_count": null,
   "id": "935f9e94-aaf2-4c5a-b1be-87e89b5a6e95",
   "metadata": {},
   "source": [],
   "outputs": []
  }
 ],
 "metadata": {
  "kernelspec": {
   "display_name": "Python 3 (ipykernel)",
   "language": "python",
   "name": "python3"
  },
  "language_info": {
   "codemirror_mode": {
    "name": "ipython",
    "version": 3
   },
   "file_extension": ".py",
   "mimetype": "text/x-python",
   "name": "python",
   "nbconvert_exporter": "python",
   "pygments_lexer": "ipython3",
   "version": "3.10.4"
  }
 },
 "nbformat": 4,
 "nbformat_minor": 5
}
